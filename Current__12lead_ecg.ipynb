{
  "nbformat": 4,
  "nbformat_minor": 0,
  "metadata": {
    "colab": {
      "provenance": [],
      "authorship_tag": "ABX9TyOzhbbVb/4+HiscO8X3Omxk",
      "include_colab_link": true
    },
    "kernelspec": {
      "name": "python3",
      "display_name": "Python 3"
    },
    "language_info": {
      "name": "python"
    }
  },
  "cells": [
    {
      "cell_type": "markdown",
      "metadata": {
        "id": "view-in-github",
        "colab_type": "text"
      },
      "source": [
        "<a href=\"https://colab.research.google.com/github/greengoosepumpkin/IBM-Project-Directory/blob/main/Current__12lead_ecg.ipynb\" target=\"_parent\"><img src=\"https://colab.research.google.com/assets/colab-badge.svg\" alt=\"Open In Colab\"/></a>"
      ]
    },
    {
      "cell_type": "markdown",
      "source": [
        "## Load in and snip data"
      ],
      "metadata": {
        "id": "BIKTUzaC42Wy"
      }
    },
    {
      "cell_type": "code",
      "execution_count": 10,
      "metadata": {
        "colab": {
          "base_uri": "https://localhost:8080/"
        },
        "id": "68IrkJ6WvQo5",
        "outputId": "cf77f1f5-af81-4f48-e3e5-56224da56532"
      },
      "outputs": [
        {
          "output_type": "stream",
          "name": "stdout",
          "text": [
            "Looking in indexes: https://pypi.org/simple, https://us-python.pkg.dev/colab-wheels/public/simple/\n",
            "Requirement already satisfied: wfdb in /usr/local/lib/python3.8/dist-packages (4.1.0)\n",
            "Requirement already satisfied: matplotlib<4.0.0,>=3.2.2 in /usr/local/lib/python3.8/dist-packages (from wfdb) (3.2.2)\n",
            "Requirement already satisfied: numpy<2.0.0,>=1.10.1 in /usr/local/lib/python3.8/dist-packages (from wfdb) (1.21.6)\n",
            "Requirement already satisfied: requests<3.0.0,>=2.8.1 in /usr/local/lib/python3.8/dist-packages (from wfdb) (2.25.1)\n",
            "Requirement already satisfied: pandas<2.0.0,>=1.0.0 in /usr/local/lib/python3.8/dist-packages (from wfdb) (1.3.5)\n",
            "Requirement already satisfied: SoundFile<0.12.0,>=0.10.0 in /usr/local/lib/python3.8/dist-packages (from wfdb) (0.11.0)\n",
            "Requirement already satisfied: scipy<2.0.0,>=1.0.0 in /usr/local/lib/python3.8/dist-packages (from wfdb) (1.7.3)\n",
            "Requirement already satisfied: python-dateutil>=2.1 in /usr/local/lib/python3.8/dist-packages (from matplotlib<4.0.0,>=3.2.2->wfdb) (2.8.2)\n",
            "Requirement already satisfied: pyparsing!=2.0.4,!=2.1.2,!=2.1.6,>=2.0.1 in /usr/local/lib/python3.8/dist-packages (from matplotlib<4.0.0,>=3.2.2->wfdb) (3.0.9)\n",
            "Requirement already satisfied: kiwisolver>=1.0.1 in /usr/local/lib/python3.8/dist-packages (from matplotlib<4.0.0,>=3.2.2->wfdb) (1.4.4)\n",
            "Requirement already satisfied: cycler>=0.10 in /usr/local/lib/python3.8/dist-packages (from matplotlib<4.0.0,>=3.2.2->wfdb) (0.11.0)\n",
            "Requirement already satisfied: pytz>=2017.3 in /usr/local/lib/python3.8/dist-packages (from pandas<2.0.0,>=1.0.0->wfdb) (2022.7.1)\n",
            "Requirement already satisfied: chardet<5,>=3.0.2 in /usr/local/lib/python3.8/dist-packages (from requests<3.0.0,>=2.8.1->wfdb) (4.0.0)\n",
            "Requirement already satisfied: idna<3,>=2.5 in /usr/local/lib/python3.8/dist-packages (from requests<3.0.0,>=2.8.1->wfdb) (2.10)\n",
            "Requirement already satisfied: certifi>=2017.4.17 in /usr/local/lib/python3.8/dist-packages (from requests<3.0.0,>=2.8.1->wfdb) (2022.12.7)\n",
            "Requirement already satisfied: urllib3<1.27,>=1.21.1 in /usr/local/lib/python3.8/dist-packages (from requests<3.0.0,>=2.8.1->wfdb) (1.24.3)\n",
            "Requirement already satisfied: cffi>=1.0 in /usr/local/lib/python3.8/dist-packages (from SoundFile<0.12.0,>=0.10.0->wfdb) (1.15.1)\n",
            "Requirement already satisfied: pycparser in /usr/local/lib/python3.8/dist-packages (from cffi>=1.0->SoundFile<0.12.0,>=0.10.0->wfdb) (2.21)\n",
            "Requirement already satisfied: six>=1.5 in /usr/local/lib/python3.8/dist-packages (from python-dateutil>=2.1->matplotlib<4.0.0,>=3.2.2->wfdb) (1.15.0)\n",
            "Looking in indexes: https://pypi.org/simple, https://us-python.pkg.dev/colab-wheels/public/simple/\n",
            "Requirement already satisfied: biosppy in /usr/local/lib/python3.8/dist-packages (1.0.0)\n",
            "Requirement already satisfied: numpy in /usr/local/lib/python3.8/dist-packages (from biosppy) (1.21.6)\n",
            "Requirement already satisfied: six in /usr/local/lib/python3.8/dist-packages (from biosppy) (1.15.0)\n",
            "Requirement already satisfied: opencv-python in /usr/local/lib/python3.8/dist-packages (from biosppy) (4.6.0.66)\n",
            "Requirement already satisfied: bidict in /usr/local/lib/python3.8/dist-packages (from biosppy) (0.22.1)\n",
            "Requirement already satisfied: joblib in /usr/local/lib/python3.8/dist-packages (from biosppy) (1.2.0)\n",
            "Requirement already satisfied: h5py in /usr/local/lib/python3.8/dist-packages (from biosppy) (3.1.0)\n",
            "Requirement already satisfied: scikit-learn in /usr/local/lib/python3.8/dist-packages (from biosppy) (1.0.2)\n",
            "Requirement already satisfied: shortuuid in /usr/local/lib/python3.8/dist-packages (from biosppy) (1.0.11)\n",
            "Requirement already satisfied: matplotlib in /usr/local/lib/python3.8/dist-packages (from biosppy) (3.2.2)\n",
            "Requirement already satisfied: scipy in /usr/local/lib/python3.8/dist-packages (from biosppy) (1.7.3)\n",
            "Requirement already satisfied: kiwisolver>=1.0.1 in /usr/local/lib/python3.8/dist-packages (from matplotlib->biosppy) (1.4.4)\n",
            "Requirement already satisfied: cycler>=0.10 in /usr/local/lib/python3.8/dist-packages (from matplotlib->biosppy) (0.11.0)\n",
            "Requirement already satisfied: pyparsing!=2.0.4,!=2.1.2,!=2.1.6,>=2.0.1 in /usr/local/lib/python3.8/dist-packages (from matplotlib->biosppy) (3.0.9)\n",
            "Requirement already satisfied: python-dateutil>=2.1 in /usr/local/lib/python3.8/dist-packages (from matplotlib->biosppy) (2.8.2)\n",
            "Requirement already satisfied: threadpoolctl>=2.0.0 in /usr/local/lib/python3.8/dist-packages (from scikit-learn->biosppy) (3.1.0)\n"
          ]
        }
      ],
      "source": [
        "#install and import libraries\n",
        "\n",
        "!pip install wfdb\n",
        "!pip install biosppy\n",
        "\n",
        "import os\n",
        "import wfdb as wf\n",
        "import numpy as np\n",
        "import matplotlib.pyplot as plt\n",
        "import glob\n",
        "import scipy.io \n",
        "from scipy.io import loadmat\n",
        "from scipy import signal\n",
        "from biosppy.signals import ecg"
      ]
    },
    {
      "cell_type": "code",
      "source": [
        "#clone repository holding data into colab\n",
        "\n",
        "!git clone https://github.com/abigail-mcdonald/ecg_project.git\n",
        "\n",
        "!ls"
      ],
      "metadata": {
        "colab": {
          "base_uri": "https://localhost:8080/"
        },
        "id": "w4YVzxSTKja5",
        "outputId": "03c0895c-65e9-4f00-be0b-2333f8ead542"
      },
      "execution_count": 11,
      "outputs": [
        {
          "output_type": "stream",
          "name": "stdout",
          "text": [
            "fatal: destination path 'ecg_project' already exists and is not an empty directory.\n",
            "ecg_project  sample_data\n"
          ]
        }
      ]
    },
    {
      "cell_type": "code",
      "source": [
        "#point to files\n",
        "\n",
        "path = \"/content/ecg_project/data\"\n",
        "files = os.listdir(path)"
      ],
      "metadata": {
        "id": "t9kzE81OvZdU"
      },
      "execution_count": 12,
      "outputs": []
    },
    {
      "cell_type": "code",
      "source": [
        "#create a list of record names\n",
        "ecg_data = []\n",
        "for file in files:\n",
        "    if file.endswith(\".mat\"):\n",
        "        record = file[0:-4]   #drop tag\n",
        "        ecg_data.append(record)"
      ],
      "metadata": {
        "id": "doR6uGRzyL6S"
      },
      "execution_count": 13,
      "outputs": []
    },
    {
      "cell_type": "code",
      "source": [
        "#class of functions to find a 10 sec segment of ecg, courtesy of https://www.kaggle.com/code/nelsonsharma/ecg-02-ecg-signal-pre-processing/notebook#ECG-Pre-Processing\n",
        "\n",
        "#global variables\n",
        "g_DATA = '.mat'\n",
        "g_HEAD = '.hea'\n",
        "g_leads = ['I','II','III','aVR','aVL','aVF','V1','V2','V3','V4','V5','V6' ]\n",
        "BASIC_SRATE = 500 #Hz\n",
        "\n",
        "class ecg_segment:\n",
        "    # represent a 10 sec signal of ecg from 12 leads\n",
        "    \n",
        "    def __init__(self, seg_name):\n",
        "        self.name = seg_name\n",
        "        self.file_mat = os.path.join(path,self.name+'.mat')\n",
        "        self.file_hea = os.path.join(path,self.name+'.hea')\n",
        "        self.load_data()\n",
        "        self.load_header()\n",
        "        \n",
        "        \n",
        "    def load_data(self):\n",
        "        self.signals=loadmat(self.file_mat)['val'].astype(np.float64)\n",
        "        self.signald = {}\n",
        "        for i in range(0,len(g_leads)):\n",
        "            self.signald[g_leads[i]] = self.signals[i,:]\n",
        "        # an array of shape (12, 5000) each row is a lead in g_leads\n",
        "        return\n",
        "    \n",
        "    def load_header(self):\n",
        "        with open(self.file_hea,'r') as f:\n",
        "            hlines=f.readlines() # each line ends with newline char\n",
        "            #JS34506 12 500 5000 28-Mar-2021 04:58:01  \n",
        "            #0    (6x1) < from row0 extract everything\n",
        "            tl = (hlines[0][0:-1]).split(\" \")\n",
        "            assert (tl[0] == self.name)\n",
        "            assert (tl[1] == '12')\n",
        "            assert (tl[2] == '500')\n",
        "            assert (tl[3] == '5000')\n",
        "            #self.timestamp = datetime.datetime.strptime(\"%d-%b-%Y_%H:%M:%S\", tl[4]+'_'+tl[5])\n",
        "            for i in range(1,12):\n",
        "                assert ((hlines[i][0:-1]).split(\" \")[8] == g_leads[i-1])\n",
        "                assert ((hlines[i][0:-1]).split(\" \")[8] == g_leads[i-1])\n",
        "                \n",
        "            self.age = int(hlines[13][0:-1].split(\" \")[1])\n",
        "            self.gender = hlines[14][0:-1].split(\" \")[1]\n",
        "            self.Dx = (hlines[15][0:-1].split(\" \")[1])\n",
        "            self.Rx = (hlines[16][0:-1].split(\" \")[1])\n",
        "            self.Hx = (hlines[17][0:-1].split(\" \")[1])\n",
        "            self.Sx = (hlines[18][0:-1].split(\" \")[1])\n",
        "            \n",
        "        return \n",
        "    \n",
        "    def info(self):\n",
        "        print(self.name,self.gender,self.age)\n",
        "        return"
      ],
      "metadata": {
        "id": "FrvFM2RHwbXj"
      },
      "execution_count": 14,
      "outputs": []
    },
    {
      "cell_type": "code",
      "source": [
        "#code to call a random record from files\n",
        "\n",
        "random = np.random.choice(ecg_data, size=1)[0]  \n",
        "sa_ecg = ecg_segment(random)\n",
        "sa_ecg.info()"
      ],
      "metadata": {
        "colab": {
          "base_uri": "https://localhost:8080/"
        },
        "id": "R_VpJpSD0LWF",
        "outputId": "ad64821e-3f56-4358-ea3a-f64e7286bd16"
      },
      "execution_count": 15,
      "outputs": [
        {
          "output_type": "stream",
          "name": "stdout",
          "text": [
            "JS00020 Female 70\n"
          ]
        }
      ]
    },
    {
      "cell_type": "markdown",
      "source": [
        "##Visualize a sample record"
      ],
      "metadata": {
        "id": "JYshf7kK4o0B"
      }
    },
    {
      "cell_type": "code",
      "source": [
        "!pip install ecg_plot"
      ],
      "metadata": {
        "colab": {
          "base_uri": "https://localhost:8080/"
        },
        "id": "ROxc9Ox74z3C",
        "outputId": "709e042e-079f-4a37-f338-8d9f2125afe9"
      },
      "execution_count": 16,
      "outputs": [
        {
          "output_type": "stream",
          "name": "stdout",
          "text": [
            "Looking in indexes: https://pypi.org/simple, https://us-python.pkg.dev/colab-wheels/public/simple/\n",
            "Requirement already satisfied: ecg_plot in /usr/local/lib/python3.8/dist-packages (0.2.8)\n"
          ]
        }
      ]
    },
    {
      "cell_type": "code",
      "source": [
        "import ecg_plot\n",
        "\n",
        "signal_data = []\n",
        "for file in files:\n",
        "    if file.endswith(\".mat\"):\n",
        "        #mat = scipy.io.loadmat(os.path.join(path, file))\n",
        "        signal_data.append(mat)"
      ],
      "metadata": {
        "id": "ZflQZp2k5_3Z"
      },
      "execution_count": 32,
      "outputs": []
    },
    {
      "cell_type": "code",
      "source": [
        "sig_ran = np.random.choice(signal_data, size=1)\n",
        "\n",
        "sig_ran"
      ],
      "metadata": {
        "colab": {
          "base_uri": "https://localhost:8080/"
        },
        "id": "G2gEQyI4SUvh",
        "outputId": "3a8c2209-5acc-4bf5-e294-5d1d5c98abdb"
      },
      "execution_count": 47,
      "outputs": [
        {
          "output_type": "execute_result",
          "data": {
            "text/plain": [
              "array([{'val': array([[ 54,  59,  59, ..., -20,  15,  59],\n",
              "              [  5, -15, -20, ..., -59, -15,  20],\n",
              "              [-49, -73, -78, ..., -39, -29, -39],\n",
              "              ...,\n",
              "              [166, 132, 127, ...,  29,  15,  15],\n",
              "              [ 63,  39,  44, ..., -10, -20, -20],\n",
              "              [ 20, -15, -10, ..., -10, -20, -20]], dtype=int16)}],\n",
              "      dtype=object)"
            ]
          },
          "metadata": {},
          "execution_count": 47
        }
      ]
    },
    {
      "cell_type": "code",
      "source": [
        "ecg_plot.plot(sig_ran, sample_rate = 500, title = 'ECG 12')\n",
        "ecg_plot.show()"
      ],
      "metadata": {
        "colab": {
          "base_uri": "https://localhost:8080/",
          "height": 421
        },
        "id": "gM2cpMCvSorm",
        "outputId": "8dbb83ea-5e75-46f1-c982-3b295e05813b"
      },
      "execution_count": 48,
      "outputs": [
        {
          "output_type": "error",
          "ename": "TypeError",
          "evalue": "ignored",
          "traceback": [
            "\u001b[0;31m---------------------------------------------------------------------------\u001b[0m",
            "\u001b[0;31mTypeError\u001b[0m                                 Traceback (most recent call last)",
            "\u001b[0;32m<ipython-input-48-93ea50f59f5a>\u001b[0m in \u001b[0;36m<module>\u001b[0;34m\u001b[0m\n\u001b[0;32m----> 1\u001b[0;31m \u001b[0mecg_plot\u001b[0m\u001b[0;34m.\u001b[0m\u001b[0mplot\u001b[0m\u001b[0;34m(\u001b[0m\u001b[0msig_ran\u001b[0m\u001b[0;34m,\u001b[0m \u001b[0msample_rate\u001b[0m \u001b[0;34m=\u001b[0m \u001b[0;36m500\u001b[0m\u001b[0;34m,\u001b[0m \u001b[0mtitle\u001b[0m \u001b[0;34m=\u001b[0m \u001b[0;34m'ECG 12'\u001b[0m\u001b[0;34m)\u001b[0m\u001b[0;34m\u001b[0m\u001b[0;34m\u001b[0m\u001b[0m\n\u001b[0m\u001b[1;32m      2\u001b[0m \u001b[0mecg_plot\u001b[0m\u001b[0;34m.\u001b[0m\u001b[0mshow\u001b[0m\u001b[0;34m(\u001b[0m\u001b[0;34m)\u001b[0m\u001b[0;34m\u001b[0m\u001b[0;34m\u001b[0m\u001b[0m\n",
            "\u001b[0;32m/usr/local/lib/python3.8/dist-packages/ecg_plot/ecg_plot.py\u001b[0m in \u001b[0;36mplot\u001b[0;34m(ecg, sample_rate, title, lead_index, lead_order, style, columns, row_height, show_lead_name, show_grid, show_separate_line)\u001b[0m\n\u001b[1;32m    183\u001b[0m                 ax.plot(\n\u001b[1;32m    184\u001b[0m                     \u001b[0mnp\u001b[0m\u001b[0;34m.\u001b[0m\u001b[0marange\u001b[0m\u001b[0;34m(\u001b[0m\u001b[0;36m0\u001b[0m\u001b[0;34m,\u001b[0m \u001b[0mlen\u001b[0m\u001b[0;34m(\u001b[0m\u001b[0mecg\u001b[0m\u001b[0;34m[\u001b[0m\u001b[0mt_lead\u001b[0m\u001b[0;34m]\u001b[0m\u001b[0;34m)\u001b[0m\u001b[0;34m*\u001b[0m\u001b[0mstep\u001b[0m\u001b[0;34m,\u001b[0m \u001b[0mstep\u001b[0m\u001b[0;34m)\u001b[0m \u001b[0;34m+\u001b[0m \u001b[0mx_offset\u001b[0m\u001b[0;34m,\u001b[0m\u001b[0;34m\u001b[0m\u001b[0;34m\u001b[0m\u001b[0m\n\u001b[0;32m--> 185\u001b[0;31m                     \u001b[0mecg\u001b[0m\u001b[0;34m[\u001b[0m\u001b[0mt_lead\u001b[0m\u001b[0;34m]\u001b[0m \u001b[0;34m+\u001b[0m \u001b[0my_offset\u001b[0m\u001b[0;34m,\u001b[0m\u001b[0;34m\u001b[0m\u001b[0;34m\u001b[0m\u001b[0m\n\u001b[0m\u001b[1;32m    186\u001b[0m                     \u001b[0mlinewidth\u001b[0m\u001b[0;34m=\u001b[0m\u001b[0mline_width\u001b[0m \u001b[0;34m*\u001b[0m \u001b[0mdisplay_factor\u001b[0m\u001b[0;34m,\u001b[0m\u001b[0;34m\u001b[0m\u001b[0;34m\u001b[0m\u001b[0m\n\u001b[1;32m    187\u001b[0m                     \u001b[0mcolor\u001b[0m\u001b[0;34m=\u001b[0m\u001b[0mcolor_line\u001b[0m\u001b[0;34m\u001b[0m\u001b[0;34m\u001b[0m\u001b[0m\n",
            "\u001b[0;31mTypeError\u001b[0m: unsupported operand type(s) for +: 'dict' and 'float'"
          ]
        },
        {
          "output_type": "display_data",
          "data": {
            "text/plain": [
              "<Figure size 0.288x86.4 with 1 Axes>"
            ],
            "image/png": "[encoded data removed]"
          },
          "metadata": {
            "needs_background": "light"
          }
        }
      ]
    },
    {
      "cell_type": "markdown",
      "source": [
        "Next Steps:\n",
        "\n",
        "Signal filtering: Remove high-frequency noise from the signals using digital filters.\n",
        "\n",
        "Baseline wander correction: Correct for baseline wander, which is a slow drift in the ECG signal baseline caused by muscle contractions and breathing.\n",
        "\n",
        "R-peak detection: Detect the R-peak of each QRS complex, which is the highest point in the QRS complex and marks the beginning of ventricular depolarization.\n",
        "\n",
        "ECG segmentation: Segment the ECG signals into different morphological components, such as the P-wave, QRS complex, and T-wave.\n",
        "\n",
        "Feature extraction: Extract relevant features from the ECG signals, such as the mean, standard deviation, and heart rate variability.\n",
        "\n",
        "Data normalization: Normalize the ECG signals so that they have a mean of zero and a standard deviation of one."
      ],
      "metadata": {
        "id": "AwW5zR1gXw-9"
      }
    }
  ]
}